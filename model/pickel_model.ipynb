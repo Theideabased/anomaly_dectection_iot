{
 "cells": [
  {
   "cell_type": "code",
   "execution_count": 37,
   "metadata": {},
   "outputs": [
    {
     "name": "stderr",
     "output_type": "stream",
     "text": [
      "C:\\Users\\SEYI\\AppData\\Local\\Temp\\ipykernel_4192\\718409028.py:9: DtypeWarning: Columns (0) have mixed types. Specify dtype option on import or set low_memory=False.\n",
      "  data = pd.read_csv('conn4_log_labeled.csv')\n"
     ]
    },
    {
     "name": "stdout",
     "output_type": "stream",
     "text": [
      "Model trained successfully\n"
     ]
    },
    {
     "data": {
      "text/plain": [
       "['my_model.pkl']"
      ]
     },
     "execution_count": 37,
     "metadata": {},
     "output_type": "execute_result"
    }
   ],
   "source": [
    "from sklearn.feature_extraction.text import TfidfVectorizer\n",
    "from sklearn.model_selection import train_test_split\n",
    "from sklearn.ensemble import GradientBoostingClassifier\n",
    "from sklearn.pipeline import Pipeline\n",
    "import pandas as pd\n",
    "\n",
    "# Load your dataset\n",
    "# Replace 'conn4_log_labeled.csv' with your dataset file\n",
    "data = pd.read_csv('conn4_log_labeled.csv')\n",
    "\n",
    "# Display the first few rows of the dataset\n",
    "# print(\"Original Data:\")\n",
    "# print(data.head())\n",
    "\n",
    "# Concatenate features and target into a single DataFrame\n",
    "combined_data = pd.concat([data[['string', 'port', 'port.1']], data['set[string]']], axis=1)\n",
    "\n",
    "# Drop rows with NaN values\n",
    "combined_data = combined_data.dropna()\n",
    "\n",
    "# Separate features and target after cleaning\n",
    "features = combined_data[['string', 'port', 'port.1']]\n",
    "target = combined_data['set[string]']\n",
    "\n",
    "# Display cleaned data\n",
    "# print(\"Cleaned Data:\")\n",
    "# print(features.head())\n",
    "# print(target.head())\n",
    "\n",
    "# Create the TF-IDF vectorizer\n",
    "vectorizer = TfidfVectorizer()\n",
    "\n",
    "# Create a pipeline to combine vectorization and classification\n",
    "pipeline = Pipeline([\n",
    "    ('vectorizer', vectorizer),\n",
    "    ('classifier', GradientBoostingClassifier())\n",
    "])\n",
    "\n",
    "# Split data into training and testing sets\n",
    "X_train, X_test, y_train, y_test = train_test_split(features, target, test_size=0.2, random_state=42)\n",
    "\n",
    "# Train the model\n",
    "pipeline.fit(X_train['port'], y_train)  # Only pass the 'string' feature to the TF-IDF vectorizer\n",
    "\n",
    "# Print success message\n",
    "print(\"Model trained successfully\")\n",
    "\n",
    "# Save the trained model\n",
    "joblib.dump(pipeline, \"my_model.pkl\") "
   ]
  }
 ],
 "metadata": {
  "kernelspec": {
   "display_name": "Python 3",
   "language": "python",
   "name": "python3"
  },
  "language_info": {
   "codemirror_mode": {
    "name": "ipython",
    "version": 3
   },
   "file_extension": ".py",
   "mimetype": "text/x-python",
   "name": "python",
   "nbconvert_exporter": "python",
   "pygments_lexer": "ipython3",
   "version": "3.11.2"
  }
 },
 "nbformat": 4,
 "nbformat_minor": 2
}
